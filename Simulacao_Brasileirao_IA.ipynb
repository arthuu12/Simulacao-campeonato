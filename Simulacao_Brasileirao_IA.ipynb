{
  "cells": [
    {
      "cell_type": "markdown",
      "source": [
        "LI"
      ],
      "metadata": {
        "id": "bKMVsK7crTWp"
      },
      "id": "bKMVsK7crTWp"
    },
    {
      "cell_type": "code",
      "source": [],
      "metadata": {
        "id": "s-k2FdY-rSke"
      },
      "id": "s-k2FdY-rSke",
      "execution_count": null,
      "outputs": []
    },
    {
      "cell_type": "markdown",
      "id": "9191a5f0",
      "metadata": {
        "id": "9191a5f0"
      },
      "source": [
        "\n",
        "# 🏆 Simulação do Campeonato Brasileiro\n",
        "\n",
        "Este projeto simula o Campeonato Brasileiro de Futebol, considerando atributos fictícios dos times como ataque, defesa e confiança. Os resultados das partidas são gerados usando distribuições de Poisson, permitindo uma simulação estatística realista.\n",
        "\n",
        "O objetivo é simular todos os jogos de um campeonato de pontos corridos (ida e volta), atualizando a tabela conforme os resultados e exibindo a classificação final.\n"
      ]
    },
    {
      "cell_type": "code",
      "source": [],
      "metadata": {
        "id": "HlUFBntFkZC5"
      },
      "id": "HlUFBntFkZC5",
      "execution_count": null,
      "outputs": []
    },
    {
      "cell_type": "markdown",
      "id": "a4a306ee",
      "metadata": {
        "id": "a4a306ee"
      },
      "source": [
        "## 📦 Importação de bibliotecas"
      ]
    },
    {
      "cell_type": "code",
      "execution_count": null,
      "id": "7f268bc0",
      "metadata": {
        "colab": {
          "base_uri": "https://localhost:8080/"
        },
        "id": "7f268bc0",
        "outputId": "05727fb7-0bee-4573-e1f6-5306839cc763"
      },
      "outputs": [
        {
          "output_type": "stream",
          "name": "stdout",
          "text": [
            "Preparando o ambiente no Google Colab...\n",
            "Ambiente pronto!\n",
            "\n"
          ]
        }
      ],
      "source": [
        "\n",
        "import random\n",
        "from scipy.stats import poisson\n",
        "\n",
        "print(\"Preparando o ambiente no Google Colab...\")\n",
        "!pip install scipy -qqq\n",
        "print(\"Ambiente pronto!\\n\")\n"
      ]
    },
    {
      "cell_type": "markdown",
      "id": "6164d064",
      "metadata": {
        "id": "6164d064"
      },
      "source": [
        "## 🧱 Definição da Classe Time\n",
        "Esta classe representa cada time do campeonato e armazena atributos e estatísticas."
      ]
    },
    {
      "cell_type": "code",
      "execution_count": null,
      "id": "09957c22",
      "metadata": {
        "id": "09957c22"
      },
      "outputs": [],
      "source": [
        "\n",
        "class Time:\n",
        "    def __init__(self, nome, ataque, defesa, confianca=0):\n",
        "        self.nome = nome\n",
        "        self.ataque = ataque\n",
        "        self.defesa = defesa\n",
        "        self.confianca = confianca\n",
        "\n",
        "        self.pontos = 0\n",
        "        self.vitorias = 0\n",
        "        self.empates = 0\n",
        "        self.derrotas = 0\n",
        "        self.gols_pro = 0\n",
        "        self.gols_contra = 0\n",
        "        self.saldo_gols = 0\n",
        "\n",
        "        self._jogando_em_casa = False\n",
        "\n",
        "    def __str__(self):\n",
        "        return self.nome\n",
        "\n",
        "    @property\n",
        "    def jogando_em_casa(self):\n",
        "        return self._jogando_em_casa\n",
        "\n",
        "    @jogando_em_casa.setter\n",
        "    def jogando_em_casa(self, valor):\n",
        "        self._jogando_em_casa = valor\n"
      ]
    },
    {
      "cell_type": "markdown",
      "id": "739776b5",
      "metadata": {
        "id": "739776b5"
      },
      "source": [
        "## ⚽ Lista de times do Campeonato\n",
        "\n",
        "Valores de ataque e defesa foram inventados para fins de simulação."
      ]
    },
    {
      "cell_type": "code",
      "execution_count": null,
      "id": "548c4068",
      "metadata": {
        "id": "548c4068"
      },
      "outputs": [],
      "source": [
        "\n",
        "times_brasileirao = [\n",
        "    Time(\"Flamengo\", ataque=92, defesa=88),\n",
        "    Time(\"Palmeiras\", ataque=90, defesa=90),\n",
        "    Time(\"Botafogo\", ataque=87, defesa=83),\n",
        "    Time(\"Atlético-MG\", ataque=85, defesa=80),\n",
        "    Time(\"Fluminense\", ataque=82, defesa=78),\n",
        "    Time(\"São Paulo\", ataque=80, defesa=82),\n",
        "    Time(\"Cruzeiro\", ataque=79, defesa=77),\n",
        "    Time(\"Internacional\", ataque=78, defesa=76),\n",
        "    Time(\"Grêmio\", ataque=77, defesa=75),\n",
        "    Time(\"Corinthians\", ataque=75, defesa=79),\n",
        "    Time(\"Vasco\", ataque=72, defesa=70),\n",
        "    Time(\"Bahia\", ataque=76, defesa=74),\n",
        "    Time(\"Fortaleza\", ataque=74, defesa=73),\n",
        "    Time(\"Athletico-PR\", ataque=81, defesa=84),\n",
        "    Time(\"Red Bull Bragantino\", ataque=73, defesa=72),\n",
        "    Time(\"Vitória\", ataque=68, defesa=65),\n",
        "    Time(\"Atlético-GO\", ataque=69, defesa=67),\n",
        "    Time(\"Cuiabá\", ataque=70, defesa=71),\n",
        "    Time(\"Juventude\", ataque=67, defesa=66),\n",
        "    Time(\"Criciúma\", ataque=66, defesa=68),\n",
        "]\n"
      ]
    },
    {
      "cell_type": "markdown",
      "id": "100ccc05",
      "metadata": {
        "id": "100ccc05"
      },
      "source": [
        "## 🔢 Função calcular_lambdas_gols\n",
        "Calcula as médias esperadas de gols para cada time com base em seus atributos."
      ]
    },
    {
      "cell_type": "code",
      "execution_count": null,
      "id": "25809415",
      "metadata": {
        "id": "25809415"
      },
      "outputs": [],
      "source": [
        "\n",
        "def calcular_lambdas_gols(time_casa, time_fora):\n",
        "    media_gols_base_por_time = 1.3\n",
        "\n",
        "    forca_ataque_casa = time_casa.ataque\n",
        "    forca_defesa_casa = time_casa.defesa\n",
        "    forca_ataque_fora = time_fora.ataque\n",
        "    forca_defesa_fora = time_fora.defesa\n",
        "\n",
        "    bonus_casa_ataque = 15\n",
        "    bonus_casa_defesa = 10\n",
        "\n",
        "    forca_ataque_casa += bonus_casa_ataque\n",
        "    forca_defesa_casa += bonus_casa_defesa\n",
        "\n",
        "    forca_ataque_casa += time_casa.confianca * 1.5\n",
        "    forca_defesa_casa += time_casa.confianca * 0.8\n",
        "    forca_ataque_fora += time_fora.confianca * 1.5\n",
        "    forca_defesa_fora += time_fora.confianca * 0.8\n",
        "\n",
        "    lambda_casa = media_gols_base_por_time * (forca_ataque_casa / 100) * ((200 - forca_defesa_fora) / 100)\n",
        "    lambda_fora = media_gols_base_por_time * (forca_ataque_fora / 100) * ((200 - forca_defesa_casa) / 100)\n",
        "\n",
        "    lambda_casa = max(0.5, lambda_casa)\n",
        "    lambda_fora = max(0.5, lambda_fora)\n",
        "\n",
        "    return lambda_casa, lambda_fora\n"
      ]
    },
    {
      "cell_type": "markdown",
      "id": "de297cbb",
      "metadata": {
        "id": "de297cbb"
      },
      "source": [
        "## 🕹️ Função simular_jogo\n",
        "Usa Poisson para sortear a quantidade de gols de cada time na partida."
      ]
    },
    {
      "cell_type": "code",
      "execution_count": null,
      "id": "d317e25a",
      "metadata": {
        "id": "d317e25a"
      },
      "outputs": [],
      "source": [
        "\n",
        "def simular_jogo(time_casa, time_fora):\n",
        "    time_casa.jogando_em_casa = True\n",
        "    time_fora.jogando_em_casa = False\n",
        "\n",
        "    lambda_casa, lambda_fora = calcular_lambdas_gols(time_casa, time_fora)\n",
        "\n",
        "    gols_casa = poisson.rvs(mu=lambda_casa)\n",
        "    gols_fora = poisson.rvs(mu=lambda_fora)\n",
        "\n",
        "    time_casa.jogando_em_casa = False\n",
        "    time_fora.jogando_em_casa = False\n",
        "\n",
        "    return gols_casa, gols_fora\n"
      ]
    },
    {
      "cell_type": "markdown",
      "id": "e7e274a8",
      "metadata": {
        "id": "e7e274a8"
      },
      "source": [
        "## 📈 Função atualizar_tabela\n",
        "Atualiza as estatísticas e confiança dos times com base no resultado."
      ]
    },
    {
      "cell_type": "code",
      "execution_count": null,
      "id": "2ced1622",
      "metadata": {
        "id": "2ced1622"
      },
      "outputs": [],
      "source": [
        "\n",
        "def atualizar_tabela(time_casa, time_fora, gols_casa, gols_fora):\n",
        "    time_casa.gols_pro += gols_casa\n",
        "    time_casa.gols_contra += gols_fora\n",
        "    time_casa.saldo_gols = time_casa.gols_pro - time_casa.gols_contra\n",
        "\n",
        "    time_fora.gols_pro += gols_fora\n",
        "    time_fora.gols_contra += gols_casa\n",
        "    time_fora.saldo_gols = time_fora.gols_pro - time_fora.gols_contra\n",
        "\n",
        "    if gols_casa > gols_fora:\n",
        "        time_casa.vitorias += 1\n",
        "        time_casa.pontos += 3\n",
        "        time_fora.derrotas += 1\n",
        "        time_casa.confianca = min(10, time_casa.confianca + 1)\n",
        "        time_fora.confianca = max(-10, time_fora.confianca - 1)\n",
        "    elif gols_fora > gols_casa:\n",
        "        time_fora.vitorias += 1\n",
        "        time_fora.pontos += 3\n",
        "        time_casa.derrotas += 1\n",
        "        time_fora.confianca = min(10, time_fora.confianca + 1)\n",
        "        time_casa.confianca = max(-10, time_casa.confianca - 1)\n",
        "    else:\n",
        "        time_casa.empates += 1\n",
        "        time_fora.empates += 1\n",
        "        time_casa.pontos += 1\n",
        "        time_fora.pontos += 1\n"
      ]
    },
    {
      "cell_type": "markdown",
      "id": "2c3632ae",
      "metadata": {
        "id": "2c3632ae"
      },
      "source": [
        "## 🧮 Função exibir_tabela\n",
        "Imprime a classificação final com base nas regras de desempate."
      ]
    },
    {
      "cell_type": "code",
      "execution_count": null,
      "id": "3d26a9af",
      "metadata": {
        "id": "3d26a9af"
      },
      "outputs": [],
      "source": [
        "\n",
        "def exibir_tabela(times):\n",
        "    print(\"\\n\" + \"=\"*40 + \" TABELA DE CLASSIFICAÇÃO FINAL \" + \"=\"*40)\n",
        "    print(f\"{'Pos':<3} {'Time':<20} {'P':<4} {'V':<4} {'E':<4} {'D':<4} {'GP':<4} {'GC':<4} {'SG':<4} {'Conf':<5}\")\n",
        "    print(\"-\" * 100)\n",
        "    times_ordenados = sorted(times, key=lambda t: (t.pontos, t.saldo_gols, t.gols_pro), reverse=True)\n",
        "\n",
        "    for i, time in enumerate(times_ordenados):\n",
        "        print(f\"{i+1:<3} {time.nome:<20} {time.pontos:<4} {time.vitorias:<4} {time.empates:<4} {time.derrotas:<4} {time.gols_pro:<4} {time.gols_contra:<4} {time.saldo_gols:<4} {time.confianca:<5.1f}\")\n",
        "    print(\"=\" * 100)\n",
        "    print(\"\\nSIMULAÇÃO DO CAMPEONATO FINALIZADA!\\n\")\n"
      ]
    },
    {
      "cell_type": "markdown",
      "id": "efd05cef",
      "metadata": {
        "id": "efd05cef"
      },
      "source": [
        "## 🚀 Função simular_campeonato\n",
        "Executa toda a lógica da competição com ida e volta entre os times."
      ]
    },
    {
      "cell_type": "code",
      "execution_count": null,
      "id": "f21fa0a1",
      "metadata": {
        "id": "f21fa0a1"
      },
      "outputs": [],
      "source": [
        "\n",
        "def simular_campeonato(times):\n",
        "    print(\"--- INICIANDO SIMULAÇÃO DO CAMPEONATO BRASILEIRO ---\")\n",
        "    jogos = []\n",
        "    num_times = len(times)\n",
        "    for i in range(num_times):\n",
        "        for j in range(i + 1, num_times):\n",
        "            time1 = times[i]\n",
        "            time2 = times[j]\n",
        "            jogos.append((time1, time2))\n",
        "            jogos.append((time2, time1))\n",
        "    random.shuffle(jogos)\n",
        "\n",
        "    total_jogos = len(jogos)\n",
        "    print(f\"\\nTotal de jogos a simular: {total_jogos}\\n\")\n",
        "\n",
        "    for i, (time_casa, time_fora) in enumerate(jogos):\n",
        "        if (i + 1) % 50 == 0 or i == 0 or i == total_jogos - 1:\n",
        "            print(f\"--- Jogo {i+1}/{total_jogos}: {time_casa.nome} (C) vs. {time_fora.nome} (F) ---\")\n",
        "        gols_casa, gols_fora = simular_jogo(time_casa, time_fora)\n",
        "        atualizar_tabela(time_casa, time_fora, gols_casa, gols_fora)\n",
        "        if (i + 1) % 50 == 0 or i == 0 or i == total_jogos - 1:\n",
        "            print(f\"   Placar: {gols_casa} x {gols_fora}\\n\")\n",
        "    exibir_tabela(times)\n"
      ]
    },
    {
      "cell_type": "markdown",
      "id": "cbf97b36",
      "metadata": {
        "id": "cbf97b36"
      },
      "source": [
        "## ▶️ Iniciar simulação"
      ]
    },
    {
      "cell_type": "code",
      "execution_count": null,
      "id": "fcfe13bf",
      "metadata": {
        "colab": {
          "base_uri": "https://localhost:8080/"
        },
        "id": "fcfe13bf",
        "outputId": "f52c8207-9b16-4745-bc5e-1881f99bd916"
      },
      "outputs": [
        {
          "output_type": "stream",
          "name": "stdout",
          "text": [
            "--- INICIANDO SIMULAÇÃO DO CAMPEONATO BRASILEIRO ---\n",
            "\n",
            "Total de jogos a simular: 380\n",
            "\n",
            "--- Jogo 1/380: São Paulo (C) vs. Flamengo (F) ---\n",
            "   Placar: 3 x 4\n",
            "\n",
            "--- Jogo 50/380: Red Bull Bragantino (C) vs. São Paulo (F) ---\n",
            "   Placar: 0 x 1\n",
            "\n",
            "--- Jogo 100/380: Fortaleza (C) vs. Fluminense (F) ---\n",
            "   Placar: 0 x 1\n",
            "\n",
            "--- Jogo 150/380: Flamengo (C) vs. Internacional (F) ---\n",
            "   Placar: 1 x 2\n",
            "\n",
            "--- Jogo 200/380: Corinthians (C) vs. Bahia (F) ---\n",
            "   Placar: 0 x 2\n",
            "\n",
            "--- Jogo 250/380: Grêmio (C) vs. São Paulo (F) ---\n",
            "   Placar: 1 x 0\n",
            "\n",
            "--- Jogo 300/380: Fluminense (C) vs. Flamengo (F) ---\n",
            "   Placar: 0 x 0\n",
            "\n",
            "--- Jogo 350/380: Flamengo (C) vs. Grêmio (F) ---\n",
            "   Placar: 0 x 0\n",
            "\n",
            "--- Jogo 380/380: Vitória (C) vs. Vasco (F) ---\n",
            "   Placar: 1 x 1\n",
            "\n",
            "\n",
            "======================================== TABELA DE CLASSIFICAÇÃO FINAL ========================================\n",
            "Pos Time                 P    V    E    D    GP   GC   SG   Conf \n",
            "----------------------------------------------------------------------------------------------------\n",
            "1   Palmeiras            76   23   7    8    66   34   32   8.0  \n",
            "2   Atlético-MG          68   20   8    10   63   40   23   10.0 \n",
            "3   Internacional        66   18   12   8    54   41   13   8.0  \n",
            "4   Flamengo             65   17   14   7    56   36   20   10.0 \n",
            "5   Vitória              65   17   14   7    59   43   16   9.0  \n",
            "6   Atlético-GO          60   18   6    14   60   52   8    4.0  \n",
            "7   Bahia                59   17   8    13   54   47   7    4.0  \n",
            "8   Juventude            59   17   8    13   53   47   6    4.0  \n",
            "9   Botafogo             59   16   11   11   58   54   4    5.0  \n",
            "10  Vasco                52   14   10   14   48   44   4    0.0  \n",
            "11  São Paulo            52   14   10   14   44   48   -4   0.0  \n",
            "12  Fluminense           47   12   11   15   49   54   -5   -3.0 \n",
            "13  Corinthians          44   10   14   14   40   47   -7   -4.0 \n",
            "14  Grêmio               44   12   8    18   44   53   -9   -6.0 \n",
            "15  Cuiabá               43   10   13   15   48   53   -5   -5.0 \n",
            "16  Cruzeiro             42   12   6    20   45   56   -11  -8.0 \n",
            "17  Criciúma             40   11   7    20   42   56   -14  -9.0 \n",
            "18  Athletico-PR         39   11   6    21   46   70   -24  -10.0\n",
            "19  Fortaleza            32   5    17   16   22   41   -19  -10.0\n",
            "20  Red Bull Bragantino  29   7    8    23   34   69   -35  -8.0 \n",
            "====================================================================================================\n",
            "\n",
            "SIMULAÇÃO DO CAMPEONATO FINALIZADA!\n",
            "\n"
          ]
        }
      ],
      "source": [
        "simular_campeonato(times_brasileirao)"
      ]
    }
  ],
  "metadata": {
    "colab": {
      "provenance": []
    },
    "language_info": {
      "name": "python"
    },
    "kernelspec": {
      "name": "python3",
      "display_name": "Python 3"
    }
  },
  "nbformat": 4,
  "nbformat_minor": 5
}